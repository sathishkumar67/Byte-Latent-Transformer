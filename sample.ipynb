{
 "cells": [
  {
   "cell_type": "code",
   "execution_count": 1,
   "id": "b1fdaa48",
   "metadata": {},
   "outputs": [
    {
     "name": "stdout",
     "output_type": "stream",
     "text": [
      "Cloning into 'Byte-Latent-Transformer'...\n",
      "remote: Enumerating objects: 147, done.\u001b[K\n",
      "remote: Counting objects: 100% (147/147), done.\u001b[K\n",
      "remote: Compressing objects: 100% (105/105), done.\u001b[K\n",
      "remote: Total 147 (delta 83), reused 95 (delta 38), pack-reused 0 (from 0)\u001b[K\n",
      "Receiving objects: 100% (147/147), 40.75 KiB | 5.09 MiB/s, done.\n",
      "Resolving deltas: 100% (83/83), done.\n",
      "Requirement already satisfied: pip in /usr/local/lib/python3.11/dist-packages (24.1.2)\n",
      "Collecting pip\n",
      "  Downloading pip-25.2-py3-none-any.whl.metadata (4.7 kB)\n",
      "Downloading pip-25.2-py3-none-any.whl (1.8 MB)\n",
      "\u001b[2K   \u001b[90m━━━━━━━━━━━━━━━━━━━━━━━━━━━━━━━━━━━━━━━━\u001b[0m \u001b[32m1.8/1.8 MB\u001b[0m \u001b[31m31.3 MB/s\u001b[0m eta \u001b[36m0:00:00\u001b[0ma \u001b[36m0:00:01\u001b[0m\n",
      "\u001b[?25hInstalling collected packages: pip\n",
      "  Attempting uninstall: pip\n",
      "    Found existing installation: pip 24.1.2\n",
      "    Uninstalling pip-24.1.2:\n",
      "      Successfully uninstalled pip-24.1.2\n",
      "Successfully installed pip-25.2\n"
     ]
    }
   ],
   "source": [
    "# clone the BLT repository\n",
    "!git clone https://github.com/sathishkumar67/Byte-Latent-Transformer.git\n",
    "# move the files to the current directory\n",
    "!mv /kaggle/working/Byte-Latent-Transformer/* /kaggle/working/\n",
    "# upgrade pip\n",
    "!pip install --upgrade pip\n",
    "# install latest version pytorch\n",
    "# install the required packages\n",
    "# !pip install -r requirements.txt"
   ]
  },
  {
   "cell_type": "code",
   "execution_count": 12,
   "id": "cd0179f1",
   "metadata": {},
   "outputs": [],
   "source": [
    "import torch\n",
    "import torch.nn as nn\n",
    "from BLT.entropy import EntropyModel, EntropyConfig"
   ]
  },
  {
   "cell_type": "code",
   "execution_count": 16,
   "id": "e53995ff",
   "metadata": {},
   "outputs": [
    {
     "name": "stdout",
     "output_type": "stream",
     "text": [
      "Number of parameters in the model: 35.800064M\n"
     ]
    }
   ],
   "source": [
    "# Initialize model and config\n",
    "config = EntropyConfig()\n",
    "model = EntropyModel(config)\n",
    "\n",
    "# count the number of parameters in the model\n",
    "num_params = sum(p.numel() for p in model.parameters())\n",
    "print(f\"Number of parameters in the model: {num_params/1e6}M\")\n",
    "\n",
    "def configure_optimizer(model: nn.Module) -> torch.optim.Optimizer:\n",
    "        # start with all of the candidate parameters (that require grad)\n",
    "        param_dict = {pn: p for pn, p in model.named_parameters()}\n",
    "        param_dict = {pn: p for pn, p in param_dict.items() if p.requires_grad}\n",
    "        # create optim groups. Any parameters that is 2D will be weight decayed, otherwise no.\n",
    "        # i.e. all weight tensors in matmuls + embeddings decay, all biases and layernorms don't.\n",
    "        decay_params = [p for _, p in param_dict.items() if p.dim() >= 2]\n",
    "        nodecay_params = [p for _, p in param_dict.items() if p.dim() < 2]\n",
    "\n",
    "        # Create AdamW optimizer and use the fused version if available\n",
    "        return torch.optim.AdamW([{'params': decay_params, 'weight_decay': 0.1},\n",
    "                                {'params': nodecay_params, 'weight_decay': 0.0}],\n",
    "                                lr=0.0001,\n",
    "                                betas=(0.9, 0.999),\n",
    "                                eps=1e-8,\n",
    "                                fused=True)\n",
    "\n",
    "optimizer = configure_optimizer(model)"
   ]
  },
  {
   "cell_type": "code",
   "execution_count": null,
   "id": "c4667d43",
   "metadata": {},
   "outputs": [],
   "source": []
  }
 ],
 "metadata": {
  "kernelspec": {
   "display_name": "Python 3 (ipykernel)",
   "language": "python",
   "name": "python3"
  },
  "language_info": {
   "codemirror_mode": {
    "name": "ipython",
    "version": 3
   },
   "file_extension": ".py",
   "mimetype": "text/x-python",
   "name": "python",
   "nbconvert_exporter": "python",
   "pygments_lexer": "ipython3",
   "version": "3.11.13"
  }
 },
 "nbformat": 4,
 "nbformat_minor": 5
}
