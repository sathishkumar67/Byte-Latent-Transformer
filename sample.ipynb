{
 "cells": [
  {
   "cell_type": "code",
   "execution_count": 1,
   "id": "119eabd7",
   "metadata": {},
   "outputs": [],
   "source": [
    "nope = 128\n",
    "rope = 64"
   ]
  },
  {
   "cell_type": "code",
   "execution_count": 2,
   "id": "d6e8a94b",
   "metadata": {},
   "outputs": [],
   "source": [
    "import torch\n",
    "queries = torch.randn(1, 1, 8, 192)"
   ]
  },
  {
   "cell_type": "code",
   "execution_count": null,
   "id": "9ff2707b",
   "metadata": {},
   "outputs": [
    {
     "data": {
      "text/plain": [
       "(torch.Size([1, 1, 8, 128]), torch.Size([1, 1, 8, 64]))"
      ]
     },
     "execution_count": 3,
     "metadata": {},
     "output_type": "execute_result"
    }
   ],
   "source": [
    "import torch\n",
    "queries = torch.randn(1, 1, 8, 192)\n",
    "q_nope, q_rope = torch.split(queries, [nope, rope], dim=-1)\n",
    "q_nope.shape, q_rope.shape"
   ]
  },
  {
   "cell_type": "code",
   "execution_count": null,
   "id": "e520839a",
   "metadata": {},
   "outputs": [],
   "source": [
    "queries = torch.randn(1, 1, 8, 192)\n",
    "keys = torch.randn(1, 1, 8, 192)\n",
    "values = torch.randn(1, 1, 8, 128)"
   ]
  },
  {
   "cell_type": "markdown",
   "id": "f7122865",
   "metadata": {},
   "source": []
  }
 ],
 "metadata": {
  "kernelspec": {
   "display_name": "Python 3 (ipykernel)",
   "language": "python",
   "name": "python3"
  },
  "language_info": {
   "codemirror_mode": {
    "name": "ipython",
    "version": 3
   },
   "file_extension": ".py",
   "mimetype": "text/x-python",
   "name": "python",
   "nbconvert_exporter": "python",
   "pygments_lexer": "ipython3",
   "version": "3.11.13"
  }
 },
 "nbformat": 4,
 "nbformat_minor": 5
}
